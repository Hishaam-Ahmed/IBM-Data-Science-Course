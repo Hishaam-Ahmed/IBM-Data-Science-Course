{
    "cells": [
        {
            "cell_type": "markdown",
            "metadata": {
                "collapsed": true
            },
            "source": "# Housing Dataset"
        },
        {
            "cell_type": "code",
            "execution_count": 1,
            "metadata": {},
            "outputs": [
                {
                    "data": {
                        "text/html": "<div>\n<style scoped>\n    .dataframe tbody tr th:only-of-type {\n        vertical-align: middle;\n    }\n\n    .dataframe tbody tr th {\n        vertical-align: top;\n    }\n\n    .dataframe thead th {\n        text-align: right;\n    }\n</style>\n<table border=\"1\" class=\"dataframe\">\n  <thead>\n    <tr style=\"text-align: right;\">\n      <th></th>\n      <th>property_id</th>\n      <th>location_id</th>\n      <th>page_url</th>\n      <th>property_type</th>\n      <th>price</th>\n      <th>location</th>\n      <th>city</th>\n      <th>province_name</th>\n      <th>latitude</th>\n      <th>longitude</th>\n      <th>baths</th>\n      <th>area</th>\n      <th>purpose</th>\n      <th>bedrooms</th>\n      <th>date_added</th>\n      <th>agency</th>\n      <th>agent</th>\n      <th>Area Type</th>\n      <th>Area Size</th>\n      <th>Area Category</th>\n    </tr>\n  </thead>\n  <tbody>\n    <tr>\n      <th>0</th>\n      <td>237062</td>\n      <td>3325</td>\n      <td>https://www.zameen.com/Property/g_10_g_10_2_gr...</td>\n      <td>Flat</td>\n      <td>10000000</td>\n      <td>G-10</td>\n      <td>Islamabad</td>\n      <td>Islamabad Capital</td>\n      <td>33.679890</td>\n      <td>73.012640</td>\n      <td>2</td>\n      <td>4 Marla</td>\n      <td>For Sale</td>\n      <td>2</td>\n      <td>02-04-2019</td>\n      <td>NaN</td>\n      <td>NaN</td>\n      <td>Marla</td>\n      <td>4.0</td>\n      <td>0-5 Marla</td>\n    </tr>\n    <tr>\n      <th>1</th>\n      <td>346905</td>\n      <td>3236</td>\n      <td>https://www.zameen.com/Property/e_11_2_service...</td>\n      <td>Flat</td>\n      <td>6900000</td>\n      <td>E-11</td>\n      <td>Islamabad</td>\n      <td>Islamabad Capital</td>\n      <td>33.700993</td>\n      <td>72.971492</td>\n      <td>3</td>\n      <td>5.6 Marla</td>\n      <td>For Sale</td>\n      <td>3</td>\n      <td>05-04-2019</td>\n      <td>NaN</td>\n      <td>NaN</td>\n      <td>Marla</td>\n      <td>5.6</td>\n      <td>5-10 Marla</td>\n    </tr>\n    <tr>\n      <th>2</th>\n      <td>386513</td>\n      <td>764</td>\n      <td>https://www.zameen.com/Property/islamabad_g_15...</td>\n      <td>House</td>\n      <td>16500000</td>\n      <td>G-15</td>\n      <td>Islamabad</td>\n      <td>Islamabad Capital</td>\n      <td>33.631486</td>\n      <td>72.926559</td>\n      <td>6</td>\n      <td>8 Marla</td>\n      <td>For Sale</td>\n      <td>5</td>\n      <td>07-17-2019</td>\n      <td>NaN</td>\n      <td>NaN</td>\n      <td>Marla</td>\n      <td>8.0</td>\n      <td>5-10 Marla</td>\n    </tr>\n    <tr>\n      <th>3</th>\n      <td>656161</td>\n      <td>340</td>\n      <td>https://www.zameen.com/Property/islamabad_bani...</td>\n      <td>House</td>\n      <td>43500000</td>\n      <td>Bani Gala</td>\n      <td>Islamabad</td>\n      <td>Islamabad Capital</td>\n      <td>33.707573</td>\n      <td>73.151199</td>\n      <td>4</td>\n      <td>2 Kanal</td>\n      <td>For Sale</td>\n      <td>4</td>\n      <td>04-05-2019</td>\n      <td>NaN</td>\n      <td>NaN</td>\n      <td>Kanal</td>\n      <td>2.0</td>\n      <td>1-5 Kanal</td>\n    </tr>\n    <tr>\n      <th>4</th>\n      <td>841645</td>\n      <td>3226</td>\n      <td>https://www.zameen.com/Property/dha_valley_dha...</td>\n      <td>House</td>\n      <td>7000000</td>\n      <td>DHA Defence</td>\n      <td>Islamabad</td>\n      <td>Islamabad Capital</td>\n      <td>33.492591</td>\n      <td>73.301339</td>\n      <td>3</td>\n      <td>8 Marla</td>\n      <td>For Sale</td>\n      <td>3</td>\n      <td>07-10-2019</td>\n      <td>Easy Property</td>\n      <td>Muhammad Junaid Ceo Muhammad Shahid Director</td>\n      <td>Marla</td>\n      <td>8.0</td>\n      <td>5-10 Marla</td>\n    </tr>\n  </tbody>\n</table>\n</div>",
                        "text/plain": "   property_id  location_id  \\\n0       237062         3325   \n1       346905         3236   \n2       386513          764   \n3       656161          340   \n4       841645         3226   \n\n                                            page_url property_type     price  \\\n0  https://www.zameen.com/Property/g_10_g_10_2_gr...          Flat  10000000   \n1  https://www.zameen.com/Property/e_11_2_service...          Flat   6900000   \n2  https://www.zameen.com/Property/islamabad_g_15...         House  16500000   \n3  https://www.zameen.com/Property/islamabad_bani...         House  43500000   \n4  https://www.zameen.com/Property/dha_valley_dha...         House   7000000   \n\n      location       city      province_name   latitude  longitude  baths  \\\n0         G-10  Islamabad  Islamabad Capital  33.679890  73.012640      2   \n1         E-11  Islamabad  Islamabad Capital  33.700993  72.971492      3   \n2         G-15  Islamabad  Islamabad Capital  33.631486  72.926559      6   \n3    Bani Gala  Islamabad  Islamabad Capital  33.707573  73.151199      4   \n4  DHA Defence  Islamabad  Islamabad Capital  33.492591  73.301339      3   \n\n        area   purpose  bedrooms  date_added         agency  \\\n0    4 Marla  For Sale         2  02-04-2019            NaN   \n1  5.6 Marla  For Sale         3  05-04-2019            NaN   \n2    8 Marla  For Sale         5  07-17-2019            NaN   \n3    2 Kanal  For Sale         4  04-05-2019            NaN   \n4    8 Marla  For Sale         3  07-10-2019  Easy Property   \n\n                                          agent Area Type  Area Size  \\\n0                                           NaN     Marla        4.0   \n1                                           NaN     Marla        5.6   \n2                                           NaN     Marla        8.0   \n3                                           NaN     Kanal        2.0   \n4  Muhammad Junaid Ceo Muhammad Shahid Director     Marla        8.0   \n\n  Area Category  \n0     0-5 Marla  \n1    5-10 Marla  \n2    5-10 Marla  \n3     1-5 Kanal  \n4    5-10 Marla  "
                    },
                    "execution_count": 1,
                    "metadata": {},
                    "output_type": "execute_result"
                }
            ],
            "source": "# The code was removed by Watson Studio for sharing."
        },
        {
            "cell_type": "code",
            "execution_count": null,
            "metadata": {},
            "outputs": [],
            "source": ""
        }
    ],
    "metadata": {
        "kernelspec": {
            "display_name": "Python 3.10",
            "language": "python",
            "name": "python3"
        },
        "language_info": {
            "codemirror_mode": {
                "name": "ipython",
                "version": 3
            },
            "file_extension": ".py",
            "mimetype": "text/x-python",
            "name": "python",
            "nbconvert_exporter": "python",
            "pygments_lexer": "ipython3",
            "version": "3.10.9"
        }
    },
    "nbformat": 4,
    "nbformat_minor": 1
}